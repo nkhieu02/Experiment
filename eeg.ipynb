{
 "cells": [
  {
   "cell_type": "code",
   "execution_count": 3,
   "metadata": {},
   "outputs": [],
   "source": [
    "import numpy as np\n",
    "import pandas as pd\n",
    "import torch.nn as nn\n",
    "import torch.nn.functional as F\n",
    "from torch.utils.data import Dataset, DataLoader\n",
    "import torch\n",
    "import os\n",
    "import linecache"
   ]
  },
  {
   "cell_type": "code",
   "execution_count": 6,
   "metadata": {},
   "outputs": [
    {
     "name": "stdout",
     "output_type": "stream",
     "text": [
      "Processing directory: /home/hieunguyen/Desktop/MlSupervise/Experiment/experiment/data/EEG/SMNI_CMI_TEST/\n",
      "Processing directory: /home/hieunguyen/Desktop/MlSupervise/Experiment/experiment/data/EEG/SMNI_CMI_TEST/co2a0000370\n",
      "Processing directory: /home/hieunguyen/Desktop/MlSupervise/Experiment/experiment/data/EEG/SMNI_CMI_TEST/co2a0000365\n",
      "Processing directory: /home/hieunguyen/Desktop/MlSupervise/Experiment/experiment/data/EEG/SMNI_CMI_TEST/co2a0000368\n",
      "Processing directory: /home/hieunguyen/Desktop/MlSupervise/Experiment/experiment/data/EEG/SMNI_CMI_TEST/co2c0000337\n",
      "Processing directory: /home/hieunguyen/Desktop/MlSupervise/Experiment/experiment/data/EEG/SMNI_CMI_TEST/co2c0000341\n",
      "Processing directory: /home/hieunguyen/Desktop/MlSupervise/Experiment/experiment/data/EEG/SMNI_CMI_TEST/co2a0000371\n",
      "Processing directory: /home/hieunguyen/Desktop/MlSupervise/Experiment/experiment/data/EEG/SMNI_CMI_TEST/co2c0000346\n",
      "Processing directory: /home/hieunguyen/Desktop/MlSupervise/Experiment/experiment/data/EEG/SMNI_CMI_TEST/co2c0000338\n",
      "Processing directory: /home/hieunguyen/Desktop/MlSupervise/Experiment/experiment/data/EEG/SMNI_CMI_TEST/co2c0000345\n",
      "Processing directory: /home/hieunguyen/Desktop/MlSupervise/Experiment/experiment/data/EEG/SMNI_CMI_TEST/co2a0000375\n",
      "Processing directory: /home/hieunguyen/Desktop/MlSupervise/Experiment/experiment/data/EEG/SMNI_CMI_TEST/co2c0000344\n",
      "Processing directory: /home/hieunguyen/Desktop/MlSupervise/Experiment/experiment/data/EEG/SMNI_CMI_TEST/co2c0000339\n",
      "Processing directory: /home/hieunguyen/Desktop/MlSupervise/Experiment/experiment/data/EEG/SMNI_CMI_TEST/co2a0000378\n",
      "Processing directory: /home/hieunguyen/Desktop/MlSupervise/Experiment/experiment/data/EEG/SMNI_CMI_TEST/co2a0000372\n",
      "Processing directory: /home/hieunguyen/Desktop/MlSupervise/Experiment/experiment/data/EEG/SMNI_CMI_TEST/co2c0000340\n",
      "Processing directory: /home/hieunguyen/Desktop/MlSupervise/Experiment/experiment/data/EEG/SMNI_CMI_TEST/co2a0000369\n",
      "Processing directory: /home/hieunguyen/Desktop/MlSupervise/Experiment/experiment/data/EEG/SMNI_CMI_TEST/co2a0000364\n",
      "Processing directory: /home/hieunguyen/Desktop/MlSupervise/Experiment/experiment/data/EEG/SMNI_CMI_TEST/co2c0000342\n",
      "Processing directory: /home/hieunguyen/Desktop/MlSupervise/Experiment/experiment/data/EEG/SMNI_CMI_TEST/co2c0000347\n",
      "Processing directory: /home/hieunguyen/Desktop/MlSupervise/Experiment/experiment/data/EEG/SMNI_CMI_TEST/co2a0000377\n",
      "Processing directory: /home/hieunguyen/Desktop/MlSupervise/Experiment/experiment/data/EEG/SMNI_CMI_TRAIN/\n",
      "Processing directory: /home/hieunguyen/Desktop/MlSupervise/Experiment/experiment/data/EEG/SMNI_CMI_TRAIN/co2a0000370\n",
      "Processing directory: /home/hieunguyen/Desktop/MlSupervise/Experiment/experiment/data/EEG/SMNI_CMI_TRAIN/co2a0000365\n",
      "Processing directory: /home/hieunguyen/Desktop/MlSupervise/Experiment/experiment/data/EEG/SMNI_CMI_TRAIN/co2a0000368\n",
      "Processing directory: /home/hieunguyen/Desktop/MlSupervise/Experiment/experiment/data/EEG/SMNI_CMI_TRAIN/co2c0000337\n",
      "Processing directory: /home/hieunguyen/Desktop/MlSupervise/Experiment/experiment/data/EEG/SMNI_CMI_TRAIN/co2c0000341\n",
      "Processing directory: /home/hieunguyen/Desktop/MlSupervise/Experiment/experiment/data/EEG/SMNI_CMI_TRAIN/co2a0000371\n",
      "Processing directory: /home/hieunguyen/Desktop/MlSupervise/Experiment/experiment/data/EEG/SMNI_CMI_TRAIN/co2c0000346\n",
      "Processing directory: /home/hieunguyen/Desktop/MlSupervise/Experiment/experiment/data/EEG/SMNI_CMI_TRAIN/co2c0000338\n",
      "Processing directory: /home/hieunguyen/Desktop/MlSupervise/Experiment/experiment/data/EEG/SMNI_CMI_TRAIN/co2c0000345\n",
      "Processing directory: /home/hieunguyen/Desktop/MlSupervise/Experiment/experiment/data/EEG/SMNI_CMI_TRAIN/co2a0000375\n",
      "Processing directory: /home/hieunguyen/Desktop/MlSupervise/Experiment/experiment/data/EEG/SMNI_CMI_TRAIN/co2c0000344\n",
      "Processing directory: /home/hieunguyen/Desktop/MlSupervise/Experiment/experiment/data/EEG/SMNI_CMI_TRAIN/co2c0000339\n",
      "Processing directory: /home/hieunguyen/Desktop/MlSupervise/Experiment/experiment/data/EEG/SMNI_CMI_TRAIN/co2a0000378\n",
      "Processing directory: /home/hieunguyen/Desktop/MlSupervise/Experiment/experiment/data/EEG/SMNI_CMI_TRAIN/co2a0000372\n",
      "Processing directory: /home/hieunguyen/Desktop/MlSupervise/Experiment/experiment/data/EEG/SMNI_CMI_TRAIN/co2c0000340\n",
      "Processing directory: /home/hieunguyen/Desktop/MlSupervise/Experiment/experiment/data/EEG/SMNI_CMI_TRAIN/co2a0000369\n",
      "Processing directory: /home/hieunguyen/Desktop/MlSupervise/Experiment/experiment/data/EEG/SMNI_CMI_TRAIN/co2a0000364\n",
      "Processing directory: /home/hieunguyen/Desktop/MlSupervise/Experiment/experiment/data/EEG/SMNI_CMI_TRAIN/co2c0000342\n",
      "Processing directory: /home/hieunguyen/Desktop/MlSupervise/Experiment/experiment/data/EEG/SMNI_CMI_TRAIN/co2c0000347\n",
      "Processing directory: /home/hieunguyen/Desktop/MlSupervise/Experiment/experiment/data/EEG/SMNI_CMI_TRAIN/co2a0000377\n"
     ]
    }
   ],
   "source": [
    "# Data Preprocessing\n",
    "\n",
    "CURRENT_PATH = os.getcwd()\n",
    "\n",
    "def read_and_save(feature_path, files, label_path):\n",
    "\n",
    "    for file in files:\n",
    "        # Label\n",
    "\n",
    "        filename = file.split('/')[-1] + '.pkl'\n",
    "        \n",
    "        # Data\n",
    "\n",
    "        data = pd.read_csv(file,\n",
    "                    sep = ' ', skiprows= 5 , header = None, comment='#')\n",
    "        data.columns = pd.Index(['Index', 'Sensor', 'Position', 'Value'])\n",
    "        data = data.drop(columns= ['Index'])\n",
    "        pd.to_pickle(data, os.path.join(os.getcwd(), feature_path, filename))\n",
    "\n",
    "        alcoholic = 1 if 'a' in filename else 0\n",
    "        stimulus = ''.join(linecache.getline(file, 4).split()[1:3])\n",
    "        with open(os.path.join(os.getcwd(), label_path), 'a') as file:\n",
    "            file.write(stimulus + ' ' + str(alcoholic) + ' ' + filename+ '\\n')\n",
    "\n",
    "        \n",
    "        \n",
    "def process_directory(path, feature_path, label_path):\n",
    "    print(f\"Processing directory: {path}\")\n",
    "\n",
    "    subdirs = [os.path.join(path, name) for name in os.listdir(path)]\n",
    "    if os.path.isfile(subdirs[0]):\n",
    "        read_and_save(feature_path, subdirs, label_path)\n",
    "    else:\n",
    "        for dir_ in subdirs:\n",
    "            process_directory(dir_, feature_path, label_path)\n",
    "\n",
    "\n",
    "process_directory(os.path.join(CURRENT_PATH, 'data/EEG/SMNI_CMI_TEST/'), 'data/eeg/test/', 'data/eeg/test_label.txt')\n",
    "process_directory(os.path.join(CURRENT_PATH, 'data/EEG/SMNI_CMI_TRAIN/'), 'data/eeg/train/', 'data/eeg/train_label.txt')"
   ]
  },
  {
   "cell_type": "code",
   "execution_count": 3,
   "metadata": {},
   "outputs": [],
   "source": [
    "# %load './data_scripts/eeg_data.py'\n",
    "\n",
    "\n",
    "\n",
    "class EegDataset(Dataset):\n",
    "    def __init__(self,tgt_transform = None, transform = None, train = True, channel = 'S1obj'):\n",
    "        self.channel = channel\n",
    "        self.train = train\n",
    "        self.label_path = 'data/eeg/train_label.txt' if train else 'data/eeg/test_label.txt'\n",
    "        self.labels = pd.read_csv(self.label_path, sep=' ', header= None)\n",
    "        self.labels = self.labels[self.labels[0] == self.channel]\n",
    "        self.feature_dir = 'data/eeg/train/' if train else 'data/eeg/test/'\n",
    "        self.transform = transform\n",
    "        self.tgt_transform = tgt_transform\n",
    "\n",
    "    def __len__(self):\n",
    "        return len(self.labels)\n",
    "    \n",
    "    def __getitem__(self, index):\n",
    "        \n",
    "        feature_path = os.path.join(self.feature_dir, self.labels.iloc[index, 2])\n",
    "        label = self.labels.iloc[index, 1]\n",
    "        feature_matrix = pd.read_pickle(feature_path)\n",
    "        if self.transform:\n",
    "            feature_matrix = self.transform(feature_matrix)\n",
    "        if self.tgt_transform:\n",
    "            label = self.tgt_transform(label)\n",
    "        \n",
    "        return feature_matrix, label\n",
    "        \n",
    "        \n",
    "def transform(x):\n",
    "    assert(x.shape == (256 * 64, 3))\n",
    "    assert(list(x.columns) == ['Sensor', 'Position', 'Value'])\n",
    "    value = x['Value']\n",
    "    value = torch.from_numpy(value.to_numpy()).reshape(256, 64)\n",
    "    return value   "
   ]
  },
  {
   "cell_type": "code",
   "execution_count": 4,
   "metadata": {},
   "outputs": [],
   "source": [
    "\n",
    "\n",
    "train_set = EegDataset(tgt_transform=lambda x: torch.tensor(x), transform=lambda x: transform(x))\n",
    "train_loader = DataLoader(train_set, batch_size = 5, shuffle= True)"
   ]
  },
  {
   "cell_type": "code",
   "execution_count": 40,
   "metadata": {},
   "outputs": [],
   "source": [
    "# model and Nesterov optimizer\n",
    "\n",
    "class TraceLayer(nn.Module):\n",
    "    def __init__(self, input_shape, binary = False):\n",
    "        super(TraceLayer, self).__init__()\n",
    "        self.input_shape = input_shape\n",
    "        self.ai = nn.Parameter(torch.empty(input_shape))\n",
    "        nn.init.xavier_uniform(self.ai)\n",
    "        self.binary = binary\n",
    "    \n",
    "    def forward(self, x):\n",
    "        linear = torch.sum(x * self.ai, dim = [1,2])\n",
    "        \n",
    "        if not self.binary:\n",
    "            return linear\n",
    "        return F.sigmoid(linear)\n",
    "    \n",
    "        \n",
    "class Nesterov(torch.optim.Optimizer):\n",
    "    def __init__(self, params, lr = 0.01, alpha_0 = 0, alpha_1 = 1):\n",
    "        defaults = dict(lr = lr, alpha_0 = alpha_0, alpha_1 = alpha_1, old_params = params)\n",
    "        super(Nesterov, self).__init__(params, defaults)\n",
    "    \n",
    "    def __setstate__(self, state):\n",
    "        return super().__setstate__(state)\n",
    "    \n",
    "    def step(self, closure = None):\n",
    "\n",
    "        if closure is None:\n",
    "            raise ValueError(\"Closure required for recompute of the loss\")\n",
    "        \n",
    "        for group in self.param_groups:\n",
    "\n",
    "            for B_t in group['params']:\n",
    "\n",
    "                S_t\n",
    "        \n",
    "\n",
    "    \n",
    "\n"
   ]
  },
  {
   "cell_type": "code",
   "execution_count": 41,
   "metadata": {},
   "outputs": [
    {
     "name": "stderr",
     "output_type": "stream",
     "text": [
      "/tmp/ipykernel_22321/1541360345.py:8: UserWarning: nn.init.xavier_uniform is now deprecated in favor of nn.init.xavier_uniform_.\n",
      "  nn.init.xavier_uniform(self.ai)\n"
     ]
    },
    {
     "data": {
      "text/plain": [
       "tensor([-1.1034, -1.6551, -6.0736, -6.1800, -1.4062,  5.9677, -5.3846, -0.3019,\n",
       "        -1.5379, -0.8733], grad_fn=<SumBackward1>)"
      ]
     },
     "execution_count": 41,
     "metadata": {},
     "output_type": "execute_result"
    }
   ],
   "source": [
    "model = TraceLayer((10,10))\n",
    "model.forward(torch.randn((10,10,10)))"
   ]
  }
 ],
 "metadata": {
  "kernelspec": {
   "display_name": "base",
   "language": "python",
   "name": "python3"
  },
  "language_info": {
   "codemirror_mode": {
    "name": "ipython",
    "version": 3
   },
   "file_extension": ".py",
   "mimetype": "text/x-python",
   "name": "python",
   "nbconvert_exporter": "python",
   "pygments_lexer": "ipython3",
   "version": "3.9.13"
  },
  "orig_nbformat": 4
 },
 "nbformat": 4,
 "nbformat_minor": 2
}
